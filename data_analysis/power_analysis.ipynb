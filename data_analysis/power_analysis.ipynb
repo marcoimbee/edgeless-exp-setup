{
 "cells": [
  {
   "cell_type": "code",
   "execution_count": 1,
   "metadata": {},
   "outputs": [],
   "source": [
    "import tabulate\n",
    "\n",
    "def print_data_table(dataset, exclude_columns=[]):\n",
    "    dataset = [\n",
    "        {key: value for key, value in entry.items() if key not in exclude_columns}\n",
    "        for entry in dataset\n",
    "    ]\n",
    "    header = dataset[0].keys()\n",
    "    rows = [x.values() for x in dataset]\n",
    "    print(tabulate.tabulate(rows, header))"
   ]
  },
  {
   "cell_type": "code",
   "execution_count": null,
   "metadata": {},
   "outputs": [],
   "source": [
    "import json\n",
    "\n",
    "def parse_power_json(file_path):\n",
    "    data = {}\n",
    "    with open(file_path) as f:\n",
    "        data = json.load(f)\n",
    "\n",
    "    averages = []\n",
    "    for document in data:\n",
    "        average = document.get(\"energy\", {}).get(\"average\")\n",
    "        if average is not None:\n",
    "            averages.append(average)\n",
    "    \n",
    "    return averages"
   ]
  },
  {
   "cell_type": "code",
   "execution_count": null,
   "metadata": {},
   "outputs": [],
   "source": [
    "REPETITIONS = 30\n",
    "\n",
    "power_data = []\n",
    "\n",
    "exp_names = [\n",
    "    'both_funcs_on_rpi',\n",
    "    'both_funcs_on_vm',\n",
    "    'first_func_on_rpi_second_func_on_vm',\n",
    "    'first_func_on_vm_second_func_on_rpi'\n",
    "]\n",
    "\n",
    "for exp in exp_names:\n",
    "    exp_ttc_data = {\n",
    "        \"exp_name\": exp,\n",
    "        \"power_summary_file\": exp + '/power_monitor/summary.json',           # Location of summary.json file\n",
    "        \"avg_power_measurements\": []             # For box plot\n",
    "    }\n",
    "    power_data.append(exp_ttc_data)\n",
    "\n",
    "\n",
    "for exp in power_data:\n",
    "    exp['avg_power_measurements'] = parse_power_json(exp['power_summary_file'])\n",
    "\n",
    "\n",
    "print_data_table(power_data, exclude_columns=['power_summary_file'])\n",
    "\n",
    "all_data_lists = []\n",
    "for exp in power_data:\n",
    "    all_data_lists.append(exp['avg_power_measurements'])"
   ]
  },
  {
   "cell_type": "code",
   "execution_count": null,
   "metadata": {},
   "outputs": [],
   "source": [
    "import json\n",
    "from statistics import mean\n",
    "\n",
    "data = {\n",
    "    'x_cores': [\n",
    "        {\n",
    "            'exp_name': power_data[0].get('exp_name'),\n",
    "            'avg_power': mean(power_data[0].get('avg_power_measurements'))\n",
    "        },\n",
    "        {\n",
    "            'exp_name': power_data[1].get('exp_name'),\n",
    "            'avg_power': mean(power_data[1].get('avg_power_measurements'))\n",
    "        },\n",
    "        {\n",
    "            'exp_name': power_data[2].get('exp_name'),\n",
    "            'avg_power': mean(power_data[2].get('avg_power_measurements'))\n",
    "        },\n",
    "        {\n",
    "            'exp_name': power_data[3].get('exp_name'),\n",
    "            'avg_power': mean(power_data[3].get('avg_power_measurements'))\n",
    "        },\n",
    "    ]\n",
    "}\n",
    "\n",
    "json_str = json.dumps(data)\n",
    "json_str"
   ]
  },
  {
   "cell_type": "code",
   "execution_count": null,
   "metadata": {},
   "outputs": [],
   "source": [
    "import matplotlib.pyplot as plt\n",
    "\n",
    "def show_combined_box_plot(x_labels, y_label, title, data):\n",
    "    plt.boxplot(data, patch_artist=True, labels=x_labels)\n",
    "    plt.yscale(\"log\")\n",
    "    plt.title(title)\n",
    "    plt.ylabel(y_label)\n",
    "    plt.show()\n",
    "\n",
    "show_combined_box_plot(\n",
    "    [\n",
    "        'RPI\\nonly', \n",
    "        'Two functions\\non VMpub',\n",
    "        'Feature\\nextraction\\non RPI,\\nclassification\\non VMpub',\n",
    "        'Feature\\nextraction\\non VMpub,\\nclassification\\non RPI'\n",
    "    ], \n",
    "    'Energy (Wh)',\n",
    "    'Energy data (x active cores)', \n",
    "    all_data_lists\n",
    ")"
   ]
  }
 ],
 "metadata": {
  "kernelspec": {
   "display_name": "Python 3",
   "language": "python",
   "name": "python3"
  },
  "language_info": {
   "codemirror_mode": {
    "name": "ipython",
    "version": 3
   },
   "file_extension": ".py",
   "mimetype": "text/x-python",
   "name": "python",
   "nbconvert_exporter": "python",
   "pygments_lexer": "ipython3",
   "version": "3.12.3"
  }
 },
 "nbformat": 4,
 "nbformat_minor": 2
}
