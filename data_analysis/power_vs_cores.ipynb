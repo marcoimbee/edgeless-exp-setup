{
 "cells": [
  {
   "cell_type": "code",
   "execution_count": 1,
   "id": "385c4b33",
   "metadata": {},
   "outputs": [],
   "source": [
    "one_core_pwr = '{\"1_core\": [{\"exp_name\": \"both_funcs_on_rpi\", \"avg_power\": 0.3359960569761241}, {\"exp_name\": \"both_funcs_on_vm\", \"avg_power\": 0.27949539721741457}, {\"exp_name\": \"first_func_on_rpi_second_func_on_vm\", \"avg_power\": 0.29087142349974854}, {\"exp_name\": \"first_func_on_vm_second_func_on_rpi\", \"avg_power\": 0.3052241249256937}]}'\n",
    "two_core_pwr = '{\"2_cores\": [{\"exp_name\": \"both_funcs_on_rpi\", \"avg_power\": 0.2868703893622233}, {\"exp_name\": \"both_funcs_on_vm\", \"avg_power\": 0.27754357661751355}, {\"exp_name\": \"first_func_on_rpi_second_func_on_vm\", \"avg_power\": 0.274442560026862}, {\"exp_name\": \"first_func_on_vm_second_func_on_rpi\", \"avg_power\": 0.2799960238776898}]}'\n",
    "three_core_pwr = '{\"3_cores\": [{\"exp_name\": \"both_funcs_on_rpi\", \"avg_power\": 0.2722632561211546}, {\"exp_name\": \"both_funcs_on_vm\", \"avg_power\": 0.27555529639250853}, {\"exp_name\": \"first_func_on_rpi_second_func_on_vm\", \"avg_power\": 0.27752676563051537}, {\"exp_name\": \"first_func_on_vm_second_func_on_rpi\", \"avg_power\": 0.2773551210313969}]}'\n",
    "four_core_pwr = '{\"4_cores\": [{\"exp_name\": \"both_funcs_on_rpi\", \"avg_power\": 0.2727744630474043}, {\"exp_name\": \"both_funcs_on_vm\", \"avg_power\": 0.29466613470693787}, {\"exp_name\": \"first_func_on_rpi_second_func_on_vm\", \"avg_power\": 0.28897583066387944}, {\"exp_name\": \"first_func_on_vm_second_func_on_rpi\", \"avg_power\": 0.2795853258131525}]}'"
   ]
  },
  {
   "cell_type": "code",
   "execution_count": null,
   "id": "0996949c",
   "metadata": {},
   "outputs": [],
   "source": [
    "import json\n",
    "import matplotlib.pyplot as plt\n",
    "\n",
    "# Load into dicts\n",
    "data = {}\n",
    "data.update(json.loads(one_core_pwr))\n",
    "data.update(json.loads(two_core_pwr))\n",
    "data.update(json.loads(three_core_pwr))\n",
    "data.update(json.loads(four_core_pwr))\n",
    "\n",
    "# Sort keys numerically\n",
    "sorted_core_counts = sorted(data.keys(), key=lambda k: int(k.split(\"_\")[0]))\n",
    "\n",
    "# Experiment names from any entry\n",
    "exp_names = [entry[\"exp_name\"] for entry in data[\"1_core\"]]\n",
    "plot_data = {exp_name: [] for exp_name in exp_names}\n",
    "\n",
    "for core in sorted_core_counts:\n",
    "    for entry in data[core]:\n",
    "        plot_data[entry[\"exp_name\"]].append(entry[\"avg_power\"])\n",
    "\n",
    "# X-axis values (#cores)\n",
    "x = [int(k.split(\"_\")[0]) for k in sorted_core_counts]\n",
    "\n",
    "# Custom labels\n",
    "legend_labels = {\n",
    "    \"both_funcs_on_rpi\": \"RPI only\",\n",
    "    \"both_funcs_on_vm\": \"Both Functions on VMpub\",\n",
    "    \"first_func_on_rpi_second_func_on_vm\": \"Feature extraction on RPI, classification on VMpub\",\n",
    "    \"first_func_on_vm_second_func_on_rpi\": \"Feature extraction on VMpub, classification on RPI\"\n",
    "}\n",
    "\n",
    "plt.style.use(\"seaborn-v0_8-colorblind\")\n",
    "\n",
    "# Plot\n",
    "plt.figure(figsize=(10, 6))\n",
    "lines = []\n",
    "for exp_name, y in plot_data.items():\n",
    "    line, = plt.plot(x, y, marker='o')\n",
    "    lines.append(line)\n",
    "\n",
    "labels = [legend_labels[exp_name] for exp_name in plot_data.keys()]\n",
    "plt.legend(lines, labels, loc=\"upper right\", fontsize=\"medium\", title_fontsize=\"medium\")\n",
    "\n",
    "plt.title(\"Energy vs Number of Cores\")\n",
    "plt.xlabel(\"Number of Cores\")\n",
    "plt.ylabel(\"Energy (Wh)\")\n",
    "plt.xticks(x)\n",
    "plt.grid(True)\n",
    "plt.tight_layout()\n",
    "\n",
    "plt.savefig(\"power_vs_cores.png\", format=\"png\", dpi=300)\n",
    "plt.show()"
   ]
  }
 ],
 "metadata": {
  "kernelspec": {
   "display_name": "Python 3",
   "language": "python",
   "name": "python3"
  },
  "language_info": {
   "codemirror_mode": {
    "name": "ipython",
    "version": 3
   },
   "file_extension": ".py",
   "mimetype": "text/x-python",
   "name": "python",
   "nbconvert_exporter": "python",
   "pygments_lexer": "ipython3",
   "version": "3.12.3"
  }
 },
 "nbformat": 4,
 "nbformat_minor": 5
}
