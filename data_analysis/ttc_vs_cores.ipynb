{
 "cells": [
  {
   "cell_type": "code",
   "execution_count": null,
   "id": "6a82c950",
   "metadata": {},
   "outputs": [],
   "source": [
    "four_cores_ttc = '{\"4_cores\": [{\"exp_name\": \"both_funcs_on_rpi\", \"avg_ttc\": 0.012616852106227107}, {\"exp_name\": \"both_funcs_on_vm\", \"avg_ttc\": 0.15911141361973266}, {\"exp_name\": \"first_func_on_rpi_second_func_on_vm\", \"avg_ttc\": 0.07285459112332113}, {\"exp_name\": \"first_func_on_vm_second_func_on_rpi\", \"avg_ttc\": 0.05587118859169425}]}'\n",
    "three_cores_ttc = '{\"3_cores\": [{\"exp_name\": \"both_funcs_on_rpi\", \"avg_ttc\": 0.01464924173681257}, {\"exp_name\": \"both_funcs_on_vm\", \"avg_ttc\": 0.035414090196078434}, {\"exp_name\": \"first_func_on_rpi_second_func_on_vm\", \"avg_ttc\": 0.05776428558278867}, {\"exp_name\": \"first_func_on_vm_second_func_on_rpi\", \"avg_ttc\": 0.06659168409313726}]}'\n",
    "two_cores_ttc = '{\"2_cores\": [{\"exp_name\": \"both_funcs_on_rpi\", \"avg_ttc\": 0.015736418566156065}, {\"exp_name\": \"both_funcs_on_vm\", \"avg_ttc\": 0.11081157663719178}, {\"exp_name\": \"first_func_on_rpi_second_func_on_vm\", \"avg_ttc\": 0.054775186190476194}, {\"exp_name\": \"first_func_on_vm_second_func_on_rpi\", \"avg_ttc\": 0.1167649390923891}]}'\n",
    "one_core_ttc = '{\"1_core\": [{\"exp_name\": \"both_funcs_on_rpi\", \"avg_ttc\": 0.018034068790849674}, {\"exp_name\": \"both_funcs_on_vm\", \"avg_ttc\": 0.374759138017908}, {\"exp_name\": \"first_func_on_rpi_second_func_on_vm\", \"avg_ttc\": 0.11020776323232323}, {\"exp_name\": \"first_func_on_vm_second_func_on_rpi\", \"avg_ttc\": 0.16653912694444445}]}'"
   ]
  },
  {
   "cell_type": "code",
   "execution_count": null,
   "id": "56e1402f",
   "metadata": {},
   "outputs": [],
   "source": [
    "import json\n",
    "import matplotlib.pyplot as plt\n",
    "\n",
    "data = {}\n",
    "data.update(json.loads(one_core_ttc))\n",
    "data.update(json.loads(two_cores_ttc))\n",
    "data.update(json.loads(three_cores_ttc))\n",
    "data.update(json.loads(four_cores_ttc))\n",
    "\n",
    "sorted_core_counts = sorted(data.keys(), key=lambda k: int(k.split(\"_\")[0]))\n",
    "\n",
    "exp_names = [entry[\"exp_name\"] for entry in data[\"1_core\"]]\n",
    "plot_data = {exp_name: [] for exp_name in exp_names}\n",
    "\n",
    "for core in sorted_core_counts:\n",
    "    for entry in data[core]:\n",
    "        plot_data[entry[\"exp_name\"]].append(entry[\"avg_ttc\"])\n",
    "\n",
    "x = [int(k.split(\"_\")[0]) for k in sorted_core_counts]\n",
    "\n",
    "legend_labels = {\n",
    "    \"both_funcs_on_rpi\": \"RPI only\",\n",
    "    \"both_funcs_on_vm\": \"Both Functions on VMpub\",\n",
    "    \"first_func_on_rpi_second_func_on_vm\": \"Feature extraction on RPI, classification on VMpub\",\n",
    "    \"first_func_on_vm_second_func_on_rpi\": \"Feature extraction on VMpub, classification on RPI\"\n",
    "}\n",
    "\n",
    "plt.style.use(\"seaborn-v0_8-colorblind\")\n",
    "\n",
    "plt.figure(figsize=(10, 6))\n",
    "lines = []\n",
    "for exp_name, y in plot_data.items():\n",
    "    line, = plt.plot(x, y, marker='o')\n",
    "    lines.append(line)\n",
    "\n",
    "labels = [legend_labels[exp_name] for exp_name in plot_data.keys()]\n",
    "plt.legend(lines, labels, loc=\"upper right\", fontsize=\"medium\", title_fontsize=\"medium\")\n",
    "\n",
    "plt.title(\"TtC vs Number of Cores\")\n",
    "plt.xlabel(\"Number of Cores\")\n",
    "plt.ylabel(\"TtC (s)\")\n",
    "plt.xticks(x)\n",
    "plt.grid(True)\n",
    "plt.tight_layout()\n",
    "\n",
    "plt.savefig(\"ttc_vs_cores.png\", format=\"png\", dpi=300)\n",
    "plt.show()"
   ]
  }
 ],
 "metadata": {
  "kernelspec": {
   "display_name": "Python 3",
   "language": "python",
   "name": "python3"
  },
  "language_info": {
   "codemirror_mode": {
    "name": "ipython",
    "version": 3
   },
   "file_extension": ".py",
   "mimetype": "text/x-python",
   "name": "python",
   "nbconvert_exporter": "python",
   "pygments_lexer": "ipython3",
   "version": "3.12.3"
  }
 },
 "nbformat": 4,
 "nbformat_minor": 5
}
